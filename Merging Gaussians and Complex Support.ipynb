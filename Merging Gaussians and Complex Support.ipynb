{
 "cells": [
  {
   "cell_type": "code",
   "execution_count": 1,
   "id": "0b036a48",
   "metadata": {},
   "outputs": [
    {
     "data": {
      "text/html": [
       "<style>.container { width:100% !important; }</style>"
      ],
      "text/plain": [
       "<IPython.core.display.HTML object>"
      ]
     },
     "metadata": {},
     "output_type": "display_data"
    }
   ],
   "source": [
    "from LogDensity import LogDensity\n",
    "from Mixed import Mixed\n",
    "import numpy as np\n",
    "from IPython.display import display, HTML\n",
    "from ngsolve.webgui import Draw\n",
    "import warnings\n",
    "warnings.filterwarnings('ignore')\n",
    "display(HTML(\"<style>.container { width:100% !important; }</style>\"))\n",
    "import matplotlib.pyplot as plt\n",
    "%matplotlib notebook"
   ]
  },
  {
   "cell_type": "markdown",
   "id": "870bef0a",
   "metadata": {},
   "source": [
    "# Merging Gaussians"
   ]
  },
  {
   "cell_type": "code",
   "execution_count": 19,
   "id": "78efecde",
   "metadata": {},
   "outputs": [
    {
     "name": "stdout",
     "output_type": "stream",
     "text": [
      "\r",
      "Time=0.0010"
     ]
    }
   ],
   "source": [
    "sim = LogDensity(xrange=(-1,1),m=3,nx=40,dt=1e-3,dim=2,plot=0,IC='mergingGaussians',printTime=True,)\n",
    "sim.simulate(0.3)\n",
    "sim.generateVTU()"
   ]
  },
  {
   "cell_type": "code",
   "execution_count": 38,
   "id": "19f1c588",
   "metadata": {},
   "outputs": [
    {
     "name": "stdout",
     "output_type": "stream",
     "text": [
      "Time=0.3000"
     ]
    }
   ],
   "source": [
    "sim = Mixed(xrange=(-1,1),m=3,nx=40,dt=1e-3,dim=2,plot=0,IC='mergingGaussians',printTime=True,)\n",
    "sim.simulate(0.3)\n",
    "sim.generateVTU()"
   ]
  },
  {
   "cell_type": "markdown",
   "id": "19c2b7d5",
   "metadata": {},
   "source": [
    "# Complex support"
   ]
  },
  {
   "cell_type": "code",
   "execution_count": 7,
   "id": "ef2d7d93",
   "metadata": {},
   "outputs": [
    {
     "name": "stdout",
     "output_type": "stream",
     "text": [
      "Time=0.5000"
     ]
    }
   ],
   "source": [
    "sim = LogDensity(xrange=(-2,2),m=3,nx=40,dt=1e-3,dim=2,plot=0,IC='complexSupport',printTime=True,)\n",
    "sim.simulate(0.5)\n",
    "sim.generateVTU()"
   ]
  },
  {
   "cell_type": "code",
   "execution_count": 8,
   "id": "d83330ea",
   "metadata": {},
   "outputs": [
    {
     "name": "stdout",
     "output_type": "stream",
     "text": [
      "Time=1.0000"
     ]
    }
   ],
   "source": [
    "sim = Mixed(xrange=(-2,2),m=3,nx=40,dt=1e-3,dim=2,plot=0,IC='complexSupport',printTime=True,)\n",
    "sim.simulate(1)\n",
    "sim.generateVTU()"
   ]
  },
  {
   "cell_type": "code",
   "execution_count": 9,
   "id": "118029c3",
   "metadata": {},
   "outputs": [
    {
     "data": {
      "text/plain": [
       "3750"
      ]
     },
     "execution_count": 9,
     "metadata": {},
     "output_type": "execute_result"
    }
   ],
   "source": [
    "sim.mesh.ne"
   ]
  },
  {
   "cell_type": "code",
   "execution_count": null,
   "id": "88e93581",
   "metadata": {},
   "outputs": [],
   "source": []
  }
 ],
 "metadata": {
  "kernelspec": {
   "display_name": "Python 3",
   "language": "python",
   "name": "python3"
  },
  "language_info": {
   "codemirror_mode": {
    "name": "ipython",
    "version": 3
   },
   "file_extension": ".py",
   "mimetype": "text/x-python",
   "name": "python",
   "nbconvert_exporter": "python",
   "pygments_lexer": "ipython3",
   "version": "3.8.10"
  }
 },
 "nbformat": 4,
 "nbformat_minor": 5
}
