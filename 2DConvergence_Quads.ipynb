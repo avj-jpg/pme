{
 "cells": [
  {
   "cell_type": "code",
   "execution_count": 1,
   "id": "f20c0552",
   "metadata": {},
   "outputs": [
    {
     "data": {
      "text/html": [
       "<style>.container { width:100% !important; }</style>"
      ],
      "text/plain": [
       "<IPython.core.display.HTML object>"
      ]
     },
     "metadata": {},
     "output_type": "display_data"
    }
   ],
   "source": [
    "import warnings\n",
    "warnings.filterwarnings('ignore')\n",
    "from LogDensity import LogDensity\n",
    "from Mixed import Mixed\n",
    "from IPython.display import display, HTML\n",
    "import numpy as np\n",
    "display(HTML(\"<style>.container { width:100% !important; }</style>\"))\n",
    "%matplotlib notebook"
   ]
  },
  {
   "cell_type": "code",
   "execution_count": 2,
   "id": "4a8f3528",
   "metadata": {},
   "outputs": [],
   "source": [
    "def convergenceTest(nxList,dtList,T=.2,m=2,s0=1,method=\"LogDensity\"):\n",
    "    e5, eD = [],[]\n",
    "    for nx,dt in zip(nxList,dtList):\n",
    "        if method == 'LogDensity':\n",
    "            sim = LogDensity(xrange=(-6,6),s0=s0,m=m,nx=nx,dt=dt,dim=2,plot=0,IC='BB',printTime=True,quads=1)\n",
    "        else:\n",
    "            sim = Mixed(xrange=(--6,-6),s0=s0,m=m,nx=nx,dt=dt,dim=2,plot=0,IC='BB',printTime=True,quads=1)\n",
    "        sim.simulate(T)\n",
    "        e5.append(sim.getL2error(3))\n",
    "        eD.append(sim.getL2error(6))\n",
    "        print(' ',nx,dt)\n",
    "    E = [e5,eD]\n",
    "    print('\\n')\n",
    "    print(\"Error tables for the L2 error in [-5,5] and the [-10,10] respectively\\n\")\n",
    "    for e in E:\n",
    "        \n",
    "        print('nx \\t dt \\t error \\t order')\n",
    "        for i in range(len(nxList)):\n",
    "            if i==0:\n",
    "                order = np.nan\n",
    "            else:\n",
    "                order = np.log2(e[i-1]/e[i])\n",
    "            print('{} \\t {:.5e} \\t {:>.4e} \\t {:>.3f}'.format(nxList[i],dtList[i],e[i],order))\n",
    "        print(\"\\n\")"
   ]
  },
  {
   "cell_type": "markdown",
   "id": "2f7935eb",
   "metadata": {},
   "source": [
    "# Log density"
   ]
  },
  {
   "cell_type": "markdown",
   "id": "be9aa5b4",
   "metadata": {},
   "source": [
    "m = 2"
   ]
  },
  {
   "cell_type": "code",
   "execution_count": 12,
   "id": "8092ba78",
   "metadata": {
    "scrolled": false
   },
   "outputs": [
    {
     "name": "stdout",
     "output_type": "stream",
     "text": [
      "Time=0.2000  32 0.1\n",
      "Time=0.2000  64 0.025\n",
      "Time=0.2000  128 0.00625\n",
      "Time=0.2000  256 0.0015625\n",
      "\n",
      "\n",
      "Error tables for the L2 error in [-5,5] and the [-10,10] respectively\n",
      "\n",
      "nx \t dt \t error \t order\n",
      "32 \t 1.00000e-01 \t 9.6507e-03 \t nan\n",
      "64 \t 2.50000e-02 \t 2.7266e-03 \t 1.824\n",
      "128 \t 6.25000e-03 \t 7.1782e-04 \t 1.925\n",
      "256 \t 1.56250e-03 \t 1.8167e-04 \t 1.982\n",
      "\n",
      "\n",
      "nx \t dt \t error \t order\n",
      "32 \t 1.00000e-01 \t 6.4360e-02 \t nan\n",
      "64 \t 2.50000e-02 \t 3.1042e-02 \t 1.052\n",
      "128 \t 6.25000e-03 \t 1.4480e-02 \t 1.100\n",
      "256 \t 1.56250e-03 \t 6.2969e-03 \t 1.201\n",
      "\n",
      "\n"
     ]
    }
   ],
   "source": [
    "N = 4\n",
    "nx0 = 32\n",
    "dt0 = 0.1\n",
    "m=2\n",
    "nxList = [nx0*2**cc for cc in range(N)]\n",
    "dtList = [dt0/4**cc for cc in range(N)]\n",
    "convergenceTest(nxList,dtList,m=m)"
   ]
  },
  {
   "cell_type": "markdown",
   "id": "05182fb6",
   "metadata": {},
   "source": [
    "m = 3"
   ]
  },
  {
   "cell_type": "code",
   "execution_count": 4,
   "id": "521dd226",
   "metadata": {},
   "outputs": [
    {
     "name": "stdout",
     "output_type": "stream",
     "text": [
      "Time=0.2000  32 0.1\n",
      "Time=0.2000  64 0.025\n",
      "Time=0.2000  128 0.00625\n",
      "Time=0.2000  256 0.0015625\n",
      "\n",
      "\n",
      "Error tables for the L2 error in [-5,5] and the [-10,10] respectively\n",
      "\n",
      "nx \t dt \t error \t order\n",
      "32 \t 1.00000e-01 \t 3.7047e-03 \t nan\n",
      "64 \t 2.50000e-02 \t 1.2314e-03 \t 1.589\n",
      "128 \t 6.25000e-03 \t 3.3726e-04 \t 1.868\n",
      "256 \t 1.56250e-03 \t 8.6468e-05 \t 1.964\n",
      "\n",
      "\n",
      "nx \t dt \t error \t order\n",
      "32 \t 1.00000e-01 \t 2.1766e-01 \t nan\n",
      "64 \t 2.50000e-02 \t 1.3215e-01 \t 0.720\n",
      "128 \t 6.25000e-03 \t 7.4780e-02 \t 0.821\n",
      "256 \t 1.56250e-03 \t 4.2089e-02 \t 0.829\n",
      "\n",
      "\n"
     ]
    }
   ],
   "source": [
    "N = 4\n",
    "nx0 = 32\n",
    "dt0 = 0.1\n",
    "m=3\n",
    "nxList = [nx0*2**cc for cc in range(N)]\n",
    "dtList = [dt0/4**cc for cc in range(N)]\n",
    "convergenceTest(nxList,dtList,m=m)"
   ]
  },
  {
   "cell_type": "markdown",
   "id": "a9650626",
   "metadata": {},
   "source": [
    "m=4"
   ]
  },
  {
   "cell_type": "code",
   "execution_count": 5,
   "id": "d3d6afe5",
   "metadata": {},
   "outputs": [
    {
     "name": "stdout",
     "output_type": "stream",
     "text": [
      "Time=0.2000  32 0.1\n",
      "Time=0.2000  64 0.025\n",
      "Time=0.2000  128 0.00625\n",
      "Time=0.2000  256 0.0015625\n",
      "\n",
      "\n",
      "Error tables for the L2 error in [-5,5] and the [-10,10] respectively\n",
      "\n",
      "nx \t dt \t error \t order\n",
      "32 \t 1.00000e-01 \t 4.2069e-03 \t nan\n",
      "64 \t 2.50000e-02 \t 8.0666e-04 \t 2.383\n",
      "128 \t 6.25000e-03 \t 2.0136e-04 \t 2.002\n",
      "256 \t 1.56250e-03 \t 5.0232e-05 \t 2.003\n",
      "\n",
      "\n",
      "nx \t dt \t error \t order\n",
      "32 \t 1.00000e-01 \t 3.6965e-01 \t nan\n",
      "64 \t 2.50000e-02 \t 2.4572e-01 \t 0.589\n",
      "128 \t 6.25000e-03 \t 1.5253e-01 \t 0.688\n",
      "256 \t 1.56250e-03 \t 9.1991e-02 \t 0.730\n",
      "\n",
      "\n"
     ]
    }
   ],
   "source": [
    "N = 4\n",
    "nx0 = 32\n",
    "dt0 = 0.1\n",
    "m=4\n",
    "nxList = [nx0*2**cc for cc in range(N)]\n",
    "dtList = [dt0/4**cc for cc in range(N)]\n",
    "convergenceTest(nxList,dtList,m=m)"
   ]
  },
  {
   "cell_type": "markdown",
   "id": "67d4298a",
   "metadata": {},
   "source": [
    "# Mixed"
   ]
  },
  {
   "cell_type": "markdown",
   "id": "c0eb81ee",
   "metadata": {},
   "source": [
    "m=2"
   ]
  },
  {
   "cell_type": "code",
   "execution_count": 3,
   "id": "5e1e92d7",
   "metadata": {},
   "outputs": [
    {
     "name": "stdout",
     "output_type": "stream",
     "text": [
      "Time=0.2000  32 0.1\n",
      "Time=0.2000  64 0.05\n",
      "Time=0.2000  128 0.025\n",
      "Time=0.2000  256 0.0125\n",
      "\n",
      "\n",
      "Error tables for the L2 error in [-5,5] and the [-10,10] respectively\n",
      "\n",
      "nx \t dt \t error \t order\n",
      "32 \t 1.00000e-01 \t 1.2945e-01 \t nan\n",
      "64 \t 5.00000e-02 \t 6.4560e-02 \t 1.004\n",
      "128 \t 2.50000e-02 \t 3.2116e-02 \t 1.007\n",
      "256 \t 1.25000e-02 \t 1.6066e-02 \t 0.999\n",
      "\n",
      "\n",
      "nx \t dt \t error \t order\n",
      "32 \t 1.00000e-01 \t 2.4530e-01 \t nan\n",
      "64 \t 5.00000e-02 \t 1.2515e-01 \t 0.971\n",
      "128 \t 2.50000e-02 \t 6.3838e-02 \t 0.971\n",
      "256 \t 1.25000e-02 \t 3.2513e-02 \t 0.973\n",
      "\n",
      "\n"
     ]
    }
   ],
   "source": [
    "N = 4\n",
    "nx0 = 32\n",
    "dt0 = 0.1\n",
    "m=2\n",
    "nxList = [nx0*2**cc for cc in range(N)]\n",
    "dtList = [dt0/2**cc for cc in range(N)]\n",
    "convergenceTest(nxList,dtList,m=m,method=\"Mixed\")"
   ]
  },
  {
   "cell_type": "markdown",
   "id": "4f232813",
   "metadata": {},
   "source": [
    "m=3"
   ]
  },
  {
   "cell_type": "code",
   "execution_count": 4,
   "id": "81c2319e",
   "metadata": {},
   "outputs": [
    {
     "name": "stdout",
     "output_type": "stream",
     "text": [
      "Time=0.2000  32 0.1\n",
      "Time=0.2000  64 0.05\n",
      "Time=0.2000  128 0.025\n",
      "Time=0.2000  256 0.0125\n",
      "\n",
      "\n",
      "Error tables for the L2 error in [-5,5] and the [-10,10] respectively\n",
      "\n",
      "nx \t dt \t error \t order\n",
      "32 \t 1.00000e-01 \t 7.4749e-02 \t nan\n",
      "64 \t 5.00000e-02 \t 3.7230e-02 \t 1.006\n",
      "128 \t 2.50000e-02 \t 1.8474e-02 \t 1.011\n",
      "256 \t 1.25000e-02 \t 9.2403e-03 \t 0.999\n",
      "\n",
      "\n",
      "nx \t dt \t error \t order\n",
      "32 \t 1.00000e-01 \t 3.7660e-01 \t nan\n",
      "64 \t 5.00000e-02 \t 2.0109e-01 \t 0.905\n",
      "128 \t 2.50000e-02 \t 1.1274e-01 \t 0.835\n",
      "256 \t 1.25000e-02 \t 6.2175e-02 \t 0.859\n",
      "\n",
      "\n"
     ]
    }
   ],
   "source": [
    "N = 4\n",
    "nx0 = 32\n",
    "dt0 = 0.1\n",
    "m=3\n",
    "nxList = [nx0*2**cc for cc in range(N)]\n",
    "dtList = [dt0/2**cc for cc in range(N)]\n",
    "convergenceTest(nxList,dtList,m=m,method=\"Mixed\")"
   ]
  },
  {
   "cell_type": "markdown",
   "id": "b722f0c1",
   "metadata": {},
   "source": [
    "m=4"
   ]
  },
  {
   "cell_type": "code",
   "execution_count": 5,
   "id": "b5030a8a",
   "metadata": {},
   "outputs": [
    {
     "name": "stdout",
     "output_type": "stream",
     "text": [
      "Time=0.2000  32 0.1\n",
      "Time=0.2000  64 0.05\n",
      "Time=0.2000  128 0.025\n",
      "Time=0.2000  256 0.0125\n",
      "\n",
      "\n",
      "Error tables for the L2 error in [-5,5] and the [-10,10] respectively\n",
      "\n",
      "nx \t dt \t error \t order\n",
      "32 \t 1.00000e-01 \t 4.3889e-02 \t nan\n",
      "64 \t 5.00000e-02 \t 2.1915e-02 \t 1.002\n",
      "128 \t 2.50000e-02 \t 1.0892e-02 \t 1.009\n",
      "256 \t 1.25000e-02 \t 5.4524e-03 \t 0.998\n",
      "\n",
      "\n",
      "nx \t dt \t error \t order\n",
      "32 \t 1.00000e-01 \t 5.2757e-01 \t nan\n",
      "64 \t 5.00000e-02 \t 2.8591e-01 \t 0.884\n",
      "128 \t 2.50000e-02 \t 1.7246e-01 \t 0.729\n",
      "256 \t 1.25000e-02 \t 1.0154e-01 \t 0.764\n",
      "\n",
      "\n"
     ]
    }
   ],
   "source": [
    "N = 4\n",
    "nx0 = 32\n",
    "dt0 = 0.1\n",
    "m=4\n",
    "nxList = [nx0*2**cc for cc in range(N)]\n",
    "dtList = [dt0/2**cc for cc in range(N)]\n",
    "convergenceTest(nxList,dtList,m=m,method=\"Mixed\")"
   ]
  },
  {
   "cell_type": "code",
   "execution_count": null,
   "id": "07030faa",
   "metadata": {},
   "outputs": [],
   "source": []
  }
 ],
 "metadata": {
  "kernelspec": {
   "display_name": "Python 3",
   "language": "python",
   "name": "python3"
  },
  "language_info": {
   "codemirror_mode": {
    "name": "ipython",
    "version": 3
   },
   "file_extension": ".py",
   "mimetype": "text/x-python",
   "name": "python",
   "nbconvert_exporter": "python",
   "pygments_lexer": "ipython3",
   "version": "3.8.10"
  }
 },
 "nbformat": 4,
 "nbformat_minor": 5
}
