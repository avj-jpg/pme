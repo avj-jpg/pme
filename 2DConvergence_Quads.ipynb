{
 "cells": [
  {
   "cell_type": "code",
   "execution_count": 9,
   "id": "f20c0552",
   "metadata": {},
   "outputs": [
    {
     "data": {
      "text/html": [
       "<style>.container { width:100% !important; }</style>"
      ],
      "text/plain": [
       "<IPython.core.display.HTML object>"
      ]
     },
     "metadata": {},
     "output_type": "display_data"
    }
   ],
   "source": [
    "import warnings\n",
    "warnings.filterwarnings('ignore')\n",
    "from LogDensity import LogDensity\n",
    "from Mixed import Mixed\n",
    "from IPython.display import display, HTML\n",
    "import numpy as np\n",
    "display(HTML(\"<style>.container { width:100% !important; }</style>\"))\n",
    "%matplotlib notebook"
   ]
  },
  {
   "cell_type": "code",
   "execution_count": 10,
   "id": "4a8f3528",
   "metadata": {},
   "outputs": [],
   "source": [
    "def convergenceTest(nxList,dtList,T=.2,m=2,s0=1,method=\"LogDensity\"):\n",
    "    e5, eD = [],[]\n",
    "    for nx,dt in zip(nxList,dtList):\n",
    "        if method == 'LogDensity':\n",
    "            sim = LogDensity(xrange=(-6,6),s0=s0,m=m,nx=nx,dt=dt,dim=2,plot=0,IC='BB',printTime=True,quads=1)\n",
    "        else:\n",
    "            sim = Mixed(xrange=(--6,-6),s0=s0,m=m,nx=nx,dt=dt,dim=2,plot=0,IC='BB',printTime=True,quads=1)\n",
    "        sim.simulate(T)\n",
    "        e5.append(sim.getL2error(3))\n",
    "        eD.append(sim.getL2error(6))\n",
    "        print(' ',nx,dt)\n",
    "    e = [e5,eD]\n",
    "\n",
    "    print('nx \\t dt \\t\\t Smooth error \\t order \\t Domain error \\t order')\n",
    "    for i in range(len(nxList)):\n",
    "        if i==0:\n",
    "            order,order2 = np.nan, np.nan\n",
    "        else:\n",
    "            order = np.log2(e[0][i-1]/e[0][i])\n",
    "            order2 = np.log2(e[1][i-1]/e[1][i])\n",
    "        print('{} \\t {:.3e} \\t {:>.2e} \\t {:>.3f} \\t {:>.2e} \\t {:>.3f}'.format(nxList[i],dtList[i],e[0][i],order,e[1][i],order2 ))\n",
    "    print(\"\\n\")"
   ]
  },
  {
   "cell_type": "markdown",
   "id": "2f7935eb",
   "metadata": {},
   "source": [
    "# Log density"
   ]
  },
  {
   "cell_type": "code",
   "execution_count": 11,
   "id": "3b6c0ef4",
   "metadata": {},
   "outputs": [
    {
     "name": "stdout",
     "output_type": "stream",
     "text": [
      "Time=0.2000  32 0.2\n",
      "Time=0.2000  64 0.05\n",
      "Time=0.2000  128 0.0125\n",
      "Time=0.2000  256 0.003125\n",
      "nx \t dt \t\t Smooth error \t order \t Domain error \t order\n",
      "32 \t 2.000e-01 \t 2.35e-02 \t nan \t 6.37e-02 \t nan\n",
      "64 \t 5.000e-02 \t 6.61e-03 \t 1.828 \t 2.97e-02 \t 1.101\n",
      "128 \t 1.250e-02 \t 1.70e-03 \t 1.956 \t 1.33e-02 \t 1.161\n",
      "256 \t 3.125e-03 \t 4.29e-04 \t 1.989 \t 5.77e-03 \t 1.202\n",
      "\n",
      "\n"
     ]
    }
   ],
   "source": [
    "N = 4\n",
    "nx0 = 32\n",
    "dt0 = 0.2\n",
    "m=2\n",
    "nxList = [nx0*2**cc for cc in range(N)]\n",
    "dtList = [dt0/4**cc for cc in range(N)]\n",
    "convergenceTest(nxList,dtList,m=m)"
   ]
  },
  {
   "cell_type": "code",
   "execution_count": 12,
   "id": "521dd226",
   "metadata": {},
   "outputs": [
    {
     "name": "stdout",
     "output_type": "stream",
     "text": [
      "Time=0.2000  32 0.2\n",
      "Time=0.2000  64 0.05\n",
      "Time=0.2000  128 0.0125\n",
      "Time=0.2000  256 0.003125\n",
      "nx \t dt \t\t Smooth error \t order \t Domain error \t order\n",
      "32 \t 2.000e-01 \t 9.55e-03 \t nan \t 1.98e-01 \t nan\n",
      "64 \t 5.000e-02 \t 2.99e-03 \t 1.677 \t 1.21e-01 \t 0.706\n",
      "128 \t 1.250e-02 \t 7.81e-04 \t 1.936 \t 6.98e-02 \t 0.795\n",
      "256 \t 3.125e-03 \t 1.99e-04 \t 1.970 \t 4.01e-02 \t 0.801\n",
      "\n",
      "\n"
     ]
    }
   ],
   "source": [
    "N = 4\n",
    "nx0 = 32\n",
    "dt0 = 0.2\n",
    "m=3\n",
    "nxList = [nx0*2**cc for cc in range(N)]\n",
    "dtList = [dt0/4**cc for cc in range(N)]\n",
    "convergenceTest(nxList,dtList,m=m)"
   ]
  },
  {
   "cell_type": "code",
   "execution_count": 13,
   "id": "d3d6afe5",
   "metadata": {},
   "outputs": [
    {
     "name": "stdout",
     "output_type": "stream",
     "text": [
      "Time=0.2000  32 0.2\n",
      "Time=0.2000  64 0.05\n",
      "Time=0.2000  128 0.0125\n",
      "Time=0.2000  256 0.003125\n",
      "nx \t dt \t\t Smooth error \t order \t Domain error \t order\n",
      "32 \t 2.000e-01 \t 5.97e-03 \t nan \t 3.40e-01 \t nan\n",
      "64 \t 5.000e-02 \t 1.55e-03 \t 1.949 \t 2.33e-01 \t 0.547\n",
      "128 \t 1.250e-02 \t 4.04e-04 \t 1.936 \t 1.46e-01 \t 0.672\n",
      "256 \t 3.125e-03 \t 1.03e-04 \t 1.977 \t 8.92e-02 \t 0.712\n",
      "\n",
      "\n"
     ]
    }
   ],
   "source": [
    "N = 4\n",
    "nx0 = 32\n",
    "dt0 = 0.2\n",
    "m=4\n",
    "nxList = [nx0*2**cc for cc in range(N)]\n",
    "dtList = [dt0/4**cc for cc in range(N)]\n",
    "convergenceTest(nxList,dtList,m=m)"
   ]
  },
  {
   "cell_type": "markdown",
   "id": "67d4298a",
   "metadata": {},
   "source": [
    "# Mixed"
   ]
  },
  {
   "cell_type": "code",
   "execution_count": 6,
   "id": "5e1e92d7",
   "metadata": {},
   "outputs": [
    {
     "name": "stdout",
     "output_type": "stream",
     "text": [
      "Time=0.2000  32 0.1\n",
      "Time=0.2000  64 0.05\n",
      "Time=0.2000  128 0.025\n",
      "Time=0.2000  256 0.0125\n",
      "nx \t dt \t\t Smooth error \t order \t Domain error \t order\n",
      "32 \t 1.000e-01 \t 1.29e-01 \t nan \t 2.45e-01 \t nan\n",
      "64 \t 5.000e-02 \t 6.46e-02 \t 1.004 \t 1.25e-01 \t 0.971\n",
      "128 \t 2.500e-02 \t 3.21e-02 \t 1.007 \t 6.38e-02 \t 0.971\n",
      "256 \t 1.250e-02 \t 1.61e-02 \t 0.999 \t 3.25e-02 \t 0.973\n",
      "\n",
      "\n"
     ]
    }
   ],
   "source": [
    "N = 4\n",
    "nx0 = 32\n",
    "dt0 = 0.1\n",
    "m=2\n",
    "nxList = [nx0*2**cc for cc in range(N)]\n",
    "dtList = [dt0/2**cc for cc in range(N)]\n",
    "convergenceTest(nxList,dtList,m=m,method=\"Mixed\")"
   ]
  },
  {
   "cell_type": "code",
   "execution_count": 7,
   "id": "81c2319e",
   "metadata": {},
   "outputs": [
    {
     "name": "stdout",
     "output_type": "stream",
     "text": [
      "Time=0.2000  32 0.1\n",
      "Time=0.2000  64 0.05\n",
      "Time=0.2000  128 0.025\n",
      "Time=0.2000  256 0.0125\n",
      "nx \t dt \t\t Smooth error \t order \t Domain error \t order\n",
      "32 \t 1.000e-01 \t 7.47e-02 \t nan \t 3.77e-01 \t nan\n",
      "64 \t 5.000e-02 \t 3.72e-02 \t 1.006 \t 2.01e-01 \t 0.905\n",
      "128 \t 2.500e-02 \t 1.85e-02 \t 1.011 \t 1.13e-01 \t 0.835\n",
      "256 \t 1.250e-02 \t 9.24e-03 \t 0.999 \t 6.22e-02 \t 0.859\n",
      "\n",
      "\n"
     ]
    }
   ],
   "source": [
    "N = 4\n",
    "nx0 = 32\n",
    "dt0 = 0.1\n",
    "m=3\n",
    "nxList = [nx0*2**cc for cc in range(N)]\n",
    "dtList = [dt0/2**cc for cc in range(N)]\n",
    "convergenceTest(nxList,dtList,m=m,method=\"Mixed\")"
   ]
  },
  {
   "cell_type": "code",
   "execution_count": 8,
   "id": "b5030a8a",
   "metadata": {},
   "outputs": [
    {
     "name": "stdout",
     "output_type": "stream",
     "text": [
      "Time=0.2000  32 0.1\n",
      "Time=0.2000  64 0.05\n",
      "Time=0.2000  128 0.025\n",
      "Time=0.2000  256 0.0125\n",
      "nx \t dt \t\t Smooth error \t order \t Domain error \t order\n",
      "32 \t 1.000e-01 \t 4.39e-02 \t nan \t 5.28e-01 \t nan\n",
      "64 \t 5.000e-02 \t 2.19e-02 \t 1.002 \t 2.86e-01 \t 0.884\n",
      "128 \t 2.500e-02 \t 1.09e-02 \t 1.009 \t 1.72e-01 \t 0.729\n",
      "256 \t 1.250e-02 \t 5.45e-03 \t 0.998 \t 1.02e-01 \t 0.764\n",
      "\n",
      "\n"
     ]
    }
   ],
   "source": [
    "N = 4\n",
    "nx0 = 32\n",
    "dt0 = 0.1\n",
    "m=4\n",
    "nxList = [nx0*2**cc for cc in range(N)]\n",
    "dtList = [dt0/2**cc for cc in range(N)]\n",
    "convergenceTest(nxList,dtList,m=m,method=\"Mixed\")"
   ]
  }
 ],
 "metadata": {
  "kernelspec": {
   "display_name": "Python 3",
   "language": "python",
   "name": "python3"
  },
  "language_info": {
   "codemirror_mode": {
    "name": "ipython",
    "version": 3
   },
   "file_extension": ".py",
   "mimetype": "text/x-python",
   "name": "python",
   "nbconvert_exporter": "python",
   "pygments_lexer": "ipython3",
   "version": "3.8.10"
  }
 },
 "nbformat": 4,
 "nbformat_minor": 5
}
