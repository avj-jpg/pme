{
 "cells": [
  {
   "cell_type": "code",
   "execution_count": 1,
   "id": "9aee02d8",
   "metadata": {
    "hideCode": false,
    "hidePrompt": false
   },
   "outputs": [
    {
     "data": {
      "text/html": [
       "<style>.container { width:100% !important; }</style>"
      ],
      "text/plain": [
       "<IPython.core.display.HTML object>"
      ]
     },
     "metadata": {},
     "output_type": "display_data"
    }
   ],
   "source": [
    "import warnings\n",
    "warnings.filterwarnings('ignore')\n",
    "from LogDensity import LogDensity\n",
    "from Mixed import Mixed\n",
    "from IPython.display import display, HTML\n",
    "import numpy as np\n",
    "display(HTML(\"<style>.container { width:100% !important; }</style>\"))\n",
    "%matplotlib notebook"
   ]
  },
  {
   "cell_type": "code",
   "execution_count": 2,
   "id": "f645992e",
   "metadata": {},
   "outputs": [],
   "source": [
    "def convergenceTest(nxList,dtList,T=1,m=2,s0=3,method=\"LogDensity\"):\n",
    "    e5, eD = [],[]\n",
    "    for nx,dt in zip(nxList,dtList):\n",
    "        if method == 'LogDensity':\n",
    "            sim = LogDensity(xrange=(-10,10),s0=s0,m=m,nx=nx,dt=dt,dim=1,plot=0,IC='BB',printTime=True,)\n",
    "        else:\n",
    "            sim = Mixed(xrange=(-10,10),s0=s0,m=m,nx=nx,dt=dt,dim=1,plot=0,IC='BB',printTime=True,)\n",
    "        sim.simulate(T)\n",
    "        e5.append(sim.getL2error(5))\n",
    "        eD.append(sim.getL2error(10))\n",
    "        print(' ',nx,dt)\n",
    "    e = [e5,eD]\n",
    "\n",
    "    print('nx \\t dt \\t\\t Smooth error \\t order \\t Domain error \\t order')\n",
    "    for i in range(len(nxList)):\n",
    "        if i==0:\n",
    "            order,order2 = np.nan, np.nan\n",
    "        else:\n",
    "            order = np.log2(e[0][i-1]/e[0][i])\n",
    "            order2 = np.log2(e[1][i-1]/e[1][i])\n",
    "        print('{} \\t {:.3e} \\t {:>.2e} \\t {:>.3f} \\t {:>.2e} \\t {:>.3f}'.format(nxList[i],dtList[i],e[0][i],order,e[1][i],order2 ))\n",
    "    print(\"\\n\")"
   ]
  },
  {
   "cell_type": "code",
   "execution_count": 3,
   "id": "cef44f6f",
   "metadata": {},
   "outputs": [
    {
     "name": "stdout",
     "output_type": "stream",
     "text": [
      "Time=1.0000  100 0.2\n",
      "Time=1.0000  200 0.05\n",
      "Time=1.0000  400 0.0125\n",
      "Time=1.0000  800 0.003125\n",
      "nx \t dt \t\t Smooth error \t order \t Domain error \t order\n",
      "100 \t 2.000e-01 \t 1.19e-01 \t nan \t 3.72e-01 \t nan\n",
      "200 \t 5.000e-02 \t 3.04e-02 \t 1.971 \t 1.03e-01 \t 1.860\n",
      "400 \t 1.250e-02 \t 7.57e-03 \t 2.009 \t 2.49e-02 \t 2.043\n",
      "800 \t 3.125e-03 \t 1.88e-03 \t 2.007 \t 6.18e-03 \t 2.010\n",
      "\n",
      "\n"
     ]
    }
   ],
   "source": [
    "N = 4\n",
    "nx0 = 100\n",
    "dt0 = 0.2\n",
    "m=2\n",
    "nxList = [nx0*2**cc for cc in range(N)]\n",
    "dtList = [dt0/4**cc for cc in range(N)]\n",
    "convergenceTest(nxList,dtList,m=m)"
   ]
  },
  {
   "cell_type": "code",
   "execution_count": 4,
   "id": "32d5bfbc",
   "metadata": {},
   "outputs": [
    {
     "name": "stdout",
     "output_type": "stream",
     "text": [
      "Time=1.0000  100 0.2\n",
      "Time=1.0000  200 0.05\n",
      "Time=1.0000  400 0.0125\n",
      "Time=1.0000  800 0.003125\n",
      "nx \t dt \t\t Smooth error \t order \t Domain error \t order\n",
      "100 \t 2.000e-01 \t 6.63e-02 \t nan \t 3.15e-01 \t nan\n",
      "200 \t 5.000e-02 \t 1.64e-02 \t 2.012 \t 9.36e-02 \t 1.752\n",
      "400 \t 1.250e-02 \t 3.97e-03 \t 2.050 \t 2.55e-02 \t 1.878\n",
      "800 \t 3.125e-03 \t 9.31e-04 \t 2.091 \t 8.93e-03 \t 1.511\n",
      "\n",
      "\n"
     ]
    }
   ],
   "source": [
    "N = 4\n",
    "nx0 = 100\n",
    "dt0 = 0.2\n",
    "m=3\n",
    "nxList = [nx0*2**cc for cc in range(N)]\n",
    "dtList = [dt0/4**cc for cc in range(N)]\n",
    "convergenceTest(nxList,dtList,m=m)"
   ]
  },
  {
   "cell_type": "code",
   "execution_count": 5,
   "id": "79d206e8",
   "metadata": {},
   "outputs": [
    {
     "name": "stdout",
     "output_type": "stream",
     "text": [
      "Time=1.0000  100 0.2\n",
      "Time=1.0000  200 0.05\n",
      "Time=1.0000  400 0.0125\n",
      "Time=1.0000  800 0.003125\n",
      "nx \t dt \t\t Smooth error \t order \t Domain error \t order\n",
      "100 \t 2.000e-01 \t 4.07e-02 \t nan \t 2.33e-01 \t nan\n",
      "200 \t 5.000e-02 \t 1.02e-02 \t 1.994 \t 7.51e-02 \t 1.634\n",
      "400 \t 1.250e-02 \t 2.47e-03 \t 2.050 \t 2.70e-02 \t 1.478\n",
      "800 \t 3.125e-03 \t 4.43e-04 \t 2.479 \t 1.24e-02 \t 1.126\n",
      "\n",
      "\n"
     ]
    }
   ],
   "source": [
    "N = 4\n",
    "nx0 = 100\n",
    "dt0 = 0.2\n",
    "m=4\n",
    "nxList = [nx0*2**cc for cc in range(N)]\n",
    "dtList = [dt0/4**cc for cc in range(N)]\n",
    "convergenceTest(nxList,dtList,m=m)"
   ]
  },
  {
   "cell_type": "markdown",
   "id": "02bdd03b",
   "metadata": {},
   "source": [
    "# Mixed method"
   ]
  },
  {
   "cell_type": "code",
   "execution_count": 6,
   "id": "f3046a77",
   "metadata": {},
   "outputs": [
    {
     "name": "stdout",
     "output_type": "stream",
     "text": [
      "Time=1.0000  100 0.1\n",
      "Time=1.0000  200 0.05\n",
      "Time=1.0000  400 0.025\n",
      "Time=1.0000  800 0.0125\n",
      "nx \t dt \t\t Smooth error \t order \t Domain error \t order\n",
      "100 \t 1.000e-01 \t 4.53e-02 \t nan \t 8.48e-02 \t nan\n",
      "200 \t 5.000e-02 \t 2.27e-02 \t 0.999 \t 4.26e-02 \t 0.992\n",
      "400 \t 2.500e-02 \t 1.13e-02 \t 0.999 \t 2.14e-02 \t 0.994\n",
      "800 \t 1.250e-02 \t 5.67e-03 \t 1.000 \t 1.08e-02 \t 0.992\n",
      "\n",
      "\n"
     ]
    }
   ],
   "source": [
    "N = 4\n",
    "nx0 = 100\n",
    "dt0 = 0.1\n",
    "m=2\n",
    "nxList = [nx0*2**cc for cc in range(N)]\n",
    "dtList = [dt0/2**cc for cc in range(N)]\n",
    "convergenceTest(nxList,dtList,m=m,method='Mixed')"
   ]
  },
  {
   "cell_type": "code",
   "execution_count": 7,
   "id": "3b0faec3",
   "metadata": {},
   "outputs": [
    {
     "name": "stdout",
     "output_type": "stream",
     "text": [
      "Time=1.0000  100 0.1\n",
      "Time=1.0000  200 0.05\n",
      "Time=1.0000  400 0.025\n",
      "Time=1.0000  800 0.0125\n",
      "nx \t dt \t\t Smooth error \t order \t Domain error \t order\n",
      "100 \t 1.000e-01 \t 1.94e-02 \t nan \t 8.61e-02 \t nan\n",
      "200 \t 5.000e-02 \t 9.76e-03 \t 0.995 \t 4.69e-02 \t 0.876\n",
      "400 \t 2.500e-02 \t 4.89e-03 \t 0.997 \t 2.65e-02 \t 0.825\n",
      "800 \t 1.250e-02 \t 2.45e-03 \t 0.998 \t 1.54e-02 \t 0.782\n",
      "\n",
      "\n"
     ]
    }
   ],
   "source": [
    "N = 4\n",
    "nx0 = 100\n",
    "dt0 = 0.1\n",
    "m=3\n",
    "nxList = [nx0*2**cc for cc in range(N)]\n",
    "dtList = [dt0/2**cc for cc in range(N)]\n",
    "convergenceTest(nxList,dtList,m=m,method='Mixed')"
   ]
  },
  {
   "cell_type": "code",
   "execution_count": 8,
   "id": "9e8ed68c",
   "metadata": {},
   "outputs": [
    {
     "name": "stdout",
     "output_type": "stream",
     "text": [
      "Time=1.0000  100 0.1\n",
      "Time=1.0000  200 0.05\n",
      "Time=1.0000  400 0.025\n",
      "Time=1.0000  800 0.0125\n",
      "nx \t dt \t\t Smooth error \t order \t Domain error \t order\n",
      "100 \t 1.000e-01 \t 1.19e-02 \t nan \t 1.05e-01 \t nan\n",
      "200 \t 5.000e-02 \t 5.95e-03 \t 1.006 \t 6.03e-02 \t 0.793\n",
      "400 \t 2.500e-02 \t 3.01e-03 \t 0.980 \t 3.25e-02 \t 0.892\n",
      "800 \t 1.250e-02 \t 1.49e-03 \t 1.016 \t 2.14e-02 \t 0.606\n",
      "\n",
      "\n"
     ]
    }
   ],
   "source": [
    "N = 4\n",
    "nx0 = 100\n",
    "dt0 = 0.1\n",
    "m=4\n",
    "nxList = [nx0*2**cc for cc in range(N)]\n",
    "dtList = [dt0/2**cc for cc in range(N)]\n",
    "convergenceTest(nxList,dtList,m=m,method='Mixed')"
   ]
  },
  {
   "cell_type": "code",
   "execution_count": null,
   "id": "e999f80d",
   "metadata": {},
   "outputs": [],
   "source": []
  }
 ],
 "metadata": {
  "hide_code_all_hidden": false,
  "kernelspec": {
   "display_name": "Python 3",
   "language": "python",
   "name": "python3"
  },
  "language_info": {
   "codemirror_mode": {
    "name": "ipython",
    "version": 3
   },
   "file_extension": ".py",
   "mimetype": "text/x-python",
   "name": "python",
   "nbconvert_exporter": "python",
   "pygments_lexer": "ipython3",
   "version": "3.8.10"
  }
 },
 "nbformat": 4,
 "nbformat_minor": 5
}
